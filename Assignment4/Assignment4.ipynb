{
 "cells": [
  {
   "cell_type": "markdown",
   "metadata": {},
   "source": [
    "# Assignment 4\n",
    "\n",
    "Before working on this assignment please read these instructions fully. In the submission area, you will notice that you can click the link to **Preview the Grading** for each step of the assignment. This is the criteria that will be used for peer grading. Please familiarize yourself with the criteria before beginning the assignment.\n",
    "\n",
    "This assignment requires that you to find **at least** two datasets on the web which are related, and that you visualize these datasets to answer a question with the broad topic of **weather phenomena** (see below) for the region of **Ann Arbor, Michigan, United States**, or **United States** more broadly.\n",
    "\n",
    "You can merge these datasets with data from different regions if you like! For instance, you might want to compare **Ann Arbor, Michigan, United States** to Ann Arbor, USA. In that case at least one source file must be about **Ann Arbor, Michigan, United States**.\n",
    "\n",
    "You are welcome to choose datasets at your discretion, but keep in mind **they will be shared with your peers**, so choose appropriate datasets. Sensitive, confidential, illicit, and proprietary materials are not good choices for datasets for this assignment. You are welcome to upload datasets of your own as well, and link to them using a third party repository such as github, bitbucket, pastebin, etc. Please be aware of the Coursera terms of service with respect to intellectual property.\n",
    "\n",
    "Also, you are welcome to preserve data in its original language, but for the purposes of grading you should provide english translations. You are welcome to provide multiple visuals in different languages if you would like!\n",
    "\n",
    "As this assignment is for the whole course, you must incorporate principles discussed in the first week, such as having as high data-ink ratio (Tufte) and aligning with Cairo’s principles of truth, beauty, function, and insight.\n",
    "\n",
    "Here are the assignment instructions:\n",
    "\n",
    " * State the region and the domain category that your data sets are about (e.g., **Ann Arbor, Michigan, United States** and **weather phenomena**).\n",
    " * You must state a question about the domain category and region that you identified as being interesting.\n",
    " * You must provide at least two links to available datasets. These could be links to files such as CSV or Excel files, or links to websites which might have data in tabular form, such as Wikipedia pages.\n",
    " * You must upload an image which addresses the research question you stated. In addition to addressing the question, this visual should follow Cairo's principles of truthfulness, functionality, beauty, and insightfulness.\n",
    " * You must contribute a short (1-2 paragraph) written justification of how your visualization addresses your stated research question.\n",
    "\n",
    "What do we mean by **weather phenomena**?  For this category you might want to consider seasonal changes, natural disasters, or historical trends.\n",
    "\n",
    "## Tips\n",
    "* Wikipedia is an excellent source of data, and I strongly encourage you to explore it for new data sources.\n",
    "* Many governments run open data initiatives at the city, region, and country levels, and these are wonderful resources for localized data sources.\n",
    "* Several international agencies, such as the [United Nations](http://data.un.org/), the [World Bank](http://data.worldbank.org/), the [Global Open Data Index](http://index.okfn.org/place/) are other great places to look for data.\n",
    "* This assignment requires you to convert and clean datafiles. Check out the discussion forums for tips on how to do this from various sources, and share your successes with your fellow students!\n",
    "\n",
    "## Example\n",
    "Looking for an example? Here's what our course assistant put together for the **Ann Arbor, MI, USA** area using **sports and athletics** as the topic. [Example Solution File](./readonly/Assignment4_example.pdf)"
   ]
  },
  {
   "cell_type": "code",
   "execution_count": 1,
   "metadata": {},
   "outputs": [],
   "source": [
    "import seaborn as sns\n",
    "import pandas as pd\n",
    "import numpy as np\n",
    "import matplotlib.pyplot as plt\n",
    "import matplotlib.cm as cm\n",
    "import matplotlib.colors as col\n",
    "import re\n",
    "\n",
    "%matplotlib notebook"
   ]
  },
  {
   "cell_type": "markdown",
   "metadata": {},
   "source": [
    "**Loading data from Wikipedia**"
   ]
  },
  {
   "cell_type": "code",
   "execution_count": 2,
   "metadata": {},
   "outputs": [
    {
     "name": "stdout",
     "output_type": "stream",
     "text": [
      "Requirement already satisfied: lxml in c:\\users\\usuario\\appdata\\local\\programs\\python\\python39\\lib\\site-packages (4.7.1)\n"
     ]
    },
    {
     "name": "stderr",
     "output_type": "stream",
     "text": [
      "WARNING: You are using pip version 21.2.4; however, version 21.3.1 is available.\n",
      "You should consider upgrading via the 'c:\\users\\usuario\\appdata\\local\\programs\\python\\python39\\python.exe -m pip install --upgrade pip' command.\n"
     ]
    }
   ],
   "source": [
    "!pip install lxml\n",
    "dict_data = {\"BKN\" : \"List of Brooklyn Nets seasons - Wikipedia.html\",\n",
    "             \"GSW\" : \"List of Golden State Warriors seasons - Wikipedia.html\",\n",
    "             \"MIL\" : \"List of Milwaukee Bucks seasons - Wikipedia.html\",\n",
    "             \"PHX\" : \"List of Phoenix Suns seasons - Wikipedia.html\"}"
   ]
  },
  {
   "cell_type": "markdown",
   "metadata": {
    "collapsed": true
   },
   "source": [
    "Region and Domain"
   ]
  },
  {
   "cell_type": "markdown",
   "metadata": {},
   "source": [
    "**Brooklyn Nets**"
   ]
  },
  {
   "cell_type": "code",
   "execution_count": 3,
   "metadata": {},
   "outputs": [
    {
     "data": {
      "text/html": [
       "<div>\n",
       "<style scoped>\n",
       "    .dataframe tbody tr th:only-of-type {\n",
       "        vertical-align: middle;\n",
       "    }\n",
       "\n",
       "    .dataframe tbody tr th {\n",
       "        vertical-align: top;\n",
       "    }\n",
       "\n",
       "    .dataframe thead th {\n",
       "        text-align: right;\n",
       "    }\n",
       "</style>\n",
       "<table border=\"1\" class=\"dataframe\">\n",
       "  <thead>\n",
       "    <tr style=\"text-align: right;\">\n",
       "      <th></th>\n",
       "      <th>Year</th>\n",
       "      <th>Team Name</th>\n",
       "      <th>Wins</th>\n",
       "      <th>Losses</th>\n",
       "      <th>Win %</th>\n",
       "    </tr>\n",
       "  </thead>\n",
       "  <tbody>\n",
       "    <tr>\n",
       "      <th>0</th>\n",
       "      <td>2012</td>\n",
       "      <td>Brooklyn Nets</td>\n",
       "      <td>49</td>\n",
       "      <td>33</td>\n",
       "      <td>0.597561</td>\n",
       "    </tr>\n",
       "    <tr>\n",
       "      <th>1</th>\n",
       "      <td>2013</td>\n",
       "      <td>Brooklyn Nets</td>\n",
       "      <td>44</td>\n",
       "      <td>38</td>\n",
       "      <td>0.536585</td>\n",
       "    </tr>\n",
       "    <tr>\n",
       "      <th>2</th>\n",
       "      <td>2014</td>\n",
       "      <td>Brooklyn Nets</td>\n",
       "      <td>38</td>\n",
       "      <td>44</td>\n",
       "      <td>0.463415</td>\n",
       "    </tr>\n",
       "    <tr>\n",
       "      <th>3</th>\n",
       "      <td>2015</td>\n",
       "      <td>Brooklyn Nets</td>\n",
       "      <td>21</td>\n",
       "      <td>61</td>\n",
       "      <td>0.256098</td>\n",
       "    </tr>\n",
       "    <tr>\n",
       "      <th>4</th>\n",
       "      <td>2016</td>\n",
       "      <td>Brooklyn Nets</td>\n",
       "      <td>20</td>\n",
       "      <td>62</td>\n",
       "      <td>0.243902</td>\n",
       "    </tr>\n",
       "    <tr>\n",
       "      <th>5</th>\n",
       "      <td>2017</td>\n",
       "      <td>Brooklyn Nets</td>\n",
       "      <td>28</td>\n",
       "      <td>54</td>\n",
       "      <td>0.341463</td>\n",
       "    </tr>\n",
       "    <tr>\n",
       "      <th>6</th>\n",
       "      <td>2018</td>\n",
       "      <td>Brooklyn Nets</td>\n",
       "      <td>42</td>\n",
       "      <td>40</td>\n",
       "      <td>0.512195</td>\n",
       "    </tr>\n",
       "    <tr>\n",
       "      <th>7</th>\n",
       "      <td>2019</td>\n",
       "      <td>Brooklyn Nets</td>\n",
       "      <td>35</td>\n",
       "      <td>37</td>\n",
       "      <td>0.486111</td>\n",
       "    </tr>\n",
       "    <tr>\n",
       "      <th>8</th>\n",
       "      <td>2020</td>\n",
       "      <td>Brooklyn Nets</td>\n",
       "      <td>48</td>\n",
       "      <td>24</td>\n",
       "      <td>0.666667</td>\n",
       "    </tr>\n",
       "  </tbody>\n",
       "</table>\n",
       "</div>"
      ],
      "text/plain": [
       "   Year      Team Name  Wins  Losses     Win %\n",
       "0  2012  Brooklyn Nets    49      33  0.597561\n",
       "1  2013  Brooklyn Nets    44      38  0.536585\n",
       "2  2014  Brooklyn Nets    38      44  0.463415\n",
       "3  2015  Brooklyn Nets    21      61  0.256098\n",
       "4  2016  Brooklyn Nets    20      62  0.243902\n",
       "5  2017  Brooklyn Nets    28      54  0.341463\n",
       "6  2018  Brooklyn Nets    42      40  0.512195\n",
       "7  2019  Brooklyn Nets    35      37  0.486111\n",
       "8  2020  Brooklyn Nets    48      24  0.666667"
      ]
     },
     "metadata": {},
     "output_type": "display_data"
    }
   ],
   "source": [
    "df_brooklyn = pd.read_html(dict_data[\"BKN\"])[1][49:61]\n",
    "\n",
    "pd_brooklyn = pd.DataFrame()\n",
    "pd_brooklyn['Year'] = df_brooklyn['Season'].str[:4]\n",
    "pd_brooklyn[['Wins','Losses']] = df_brooklyn[['Wins','Losses']]\n",
    "\n",
    "pd_brooklyn['Wins'] = pd_brooklyn['Wins'].astype(int)\n",
    "\n",
    "pd_brooklyn['Losses'] = pd_brooklyn['Losses'].astype(int)\n",
    "\n",
    "pd_brooklyn['Win %'] = pd_brooklyn['Wins']/(pd_brooklyn['Losses']+pd_brooklyn['Wins'])\n",
    "\n",
    "\n",
    "pd_brooklyn = pd_brooklyn.set_index('Year')\n",
    "pd_brooklyn[\"Team Name\"] = \"Brooklyn Nets\"\n",
    "pd_brooklyn = pd_brooklyn[[\"Team Name\", \"Wins\", \"Losses\", \"Win %\"]]\n",
    "\n",
    "pd_brooklyn = pd_brooklyn.reset_index()\n",
    "display(pd_brooklyn)"
   ]
  },
  {
   "cell_type": "markdown",
   "metadata": {},
   "source": [
    "**Golden State Warriors**"
   ]
  },
  {
   "cell_type": "code",
   "execution_count": 4,
   "metadata": {},
   "outputs": [
    {
     "data": {
      "text/html": [
       "<div>\n",
       "<style scoped>\n",
       "    .dataframe tbody tr th:only-of-type {\n",
       "        vertical-align: middle;\n",
       "    }\n",
       "\n",
       "    .dataframe tbody tr th {\n",
       "        vertical-align: top;\n",
       "    }\n",
       "\n",
       "    .dataframe thead th {\n",
       "        text-align: right;\n",
       "    }\n",
       "</style>\n",
       "<table border=\"1\" class=\"dataframe\">\n",
       "  <thead>\n",
       "    <tr style=\"text-align: right;\">\n",
       "      <th></th>\n",
       "      <th>Season</th>\n",
       "      <th>Team</th>\n",
       "      <th>League</th>\n",
       "      <th>Conference</th>\n",
       "      <th>Finish</th>\n",
       "      <th>Division</th>\n",
       "      <th>Finish.1</th>\n",
       "      <th>.mw-parser-output .tooltip-dotted{border-bottom:1px dotted;cursor:help}W</th>\n",
       "      <th>L</th>\n",
       "      <th>Win%</th>\n",
       "      <th>GB</th>\n",
       "      <th>Playoffs</th>\n",
       "      <th>Awards</th>\n",
       "      <th>Unnamed: 13</th>\n",
       "    </tr>\n",
       "  </thead>\n",
       "  <tbody>\n",
       "    <tr>\n",
       "      <th>69</th>\n",
       "      <td>2012–13</td>\n",
       "      <td>2012–13</td>\n",
       "      <td>NBA</td>\n",
       "      <td>Western</td>\n",
       "      <td>6th</td>\n",
       "      <td>Pacific</td>\n",
       "      <td>2nd</td>\n",
       "      <td>47</td>\n",
       "      <td>35</td>\n",
       "      <td>.573</td>\n",
       "      <td>9</td>\n",
       "      <td>Won First Round (Nuggets) 4–2Lost Conference S...</td>\n",
       "      <td>NaN</td>\n",
       "      <td>NaN</td>\n",
       "    </tr>\n",
       "    <tr>\n",
       "      <th>70</th>\n",
       "      <td>2013–14</td>\n",
       "      <td>2013–14</td>\n",
       "      <td>NBA</td>\n",
       "      <td>Western</td>\n",
       "      <td>6th</td>\n",
       "      <td>Pacific</td>\n",
       "      <td>2nd</td>\n",
       "      <td>51</td>\n",
       "      <td>31</td>\n",
       "      <td>.622</td>\n",
       "      <td>6</td>\n",
       "      <td>Lost First Round (Clippers) 4–3</td>\n",
       "      <td>NaN</td>\n",
       "      <td>NaN</td>\n",
       "    </tr>\n",
       "    <tr>\n",
       "      <th>71</th>\n",
       "      <td>2014–15</td>\n",
       "      <td>2014–15</td>\n",
       "      <td>NBA</td>\n",
       "      <td>Western</td>\n",
       "      <td>1st</td>\n",
       "      <td>Pacific</td>\n",
       "      <td>1st</td>\n",
       "      <td>67</td>\n",
       "      <td>15</td>\n",
       "      <td>.817</td>\n",
       "      <td>—</td>\n",
       "      <td>Won First Round (Pelicans) 4–0Won Conference S...</td>\n",
       "      <td>Stephen Curry (MVP)Andre Iguodala (FMVP)Bob My...</td>\n",
       "      <td>NaN</td>\n",
       "    </tr>\n",
       "    <tr>\n",
       "      <th>72</th>\n",
       "      <td>2015–16</td>\n",
       "      <td>2015–16</td>\n",
       "      <td>NBA</td>\n",
       "      <td>Western</td>\n",
       "      <td>1st</td>\n",
       "      <td>Pacific</td>\n",
       "      <td>1st</td>\n",
       "      <td>73</td>\n",
       "      <td>9</td>\n",
       "      <td>.890</td>\n",
       "      <td>—</td>\n",
       "      <td>Won First Round (Rockets) 4–1Won Conference Se...</td>\n",
       "      <td>Stephen Curry (MVP)Steve Kerr (COY)</td>\n",
       "      <td>NaN</td>\n",
       "    </tr>\n",
       "    <tr>\n",
       "      <th>73</th>\n",
       "      <td>2016–17</td>\n",
       "      <td>2016–17</td>\n",
       "      <td>NBA</td>\n",
       "      <td>Western</td>\n",
       "      <td>1st</td>\n",
       "      <td>Pacific</td>\n",
       "      <td>1st</td>\n",
       "      <td>67</td>\n",
       "      <td>15</td>\n",
       "      <td>.817</td>\n",
       "      <td>—</td>\n",
       "      <td>Won First Round (Trail Blazers) 4–0Won Confere...</td>\n",
       "      <td>Kevin Durant (FMVP)Draymond Green (DPOY)Bob My...</td>\n",
       "      <td>NaN</td>\n",
       "    </tr>\n",
       "    <tr>\n",
       "      <th>74</th>\n",
       "      <td>2017–18</td>\n",
       "      <td>2017–18</td>\n",
       "      <td>NBA</td>\n",
       "      <td>Western</td>\n",
       "      <td>2nd</td>\n",
       "      <td>Pacific</td>\n",
       "      <td>1st</td>\n",
       "      <td>58</td>\n",
       "      <td>24</td>\n",
       "      <td>.707</td>\n",
       "      <td>—</td>\n",
       "      <td>Won First Round (Spurs) 4–1Won Conference Semi...</td>\n",
       "      <td>Kevin Durant (FMVP)</td>\n",
       "      <td>NaN</td>\n",
       "    </tr>\n",
       "    <tr>\n",
       "      <th>75</th>\n",
       "      <td>2018–19</td>\n",
       "      <td>2018–19</td>\n",
       "      <td>NBA</td>\n",
       "      <td>Western</td>\n",
       "      <td>1st</td>\n",
       "      <td>Pacific</td>\n",
       "      <td>1st</td>\n",
       "      <td>57</td>\n",
       "      <td>25</td>\n",
       "      <td>.695</td>\n",
       "      <td>—</td>\n",
       "      <td>Won First Round (Clippers) 4–2 Won Conference ...</td>\n",
       "      <td>NaN</td>\n",
       "      <td>NaN</td>\n",
       "    </tr>\n",
       "    <tr>\n",
       "      <th>76</th>\n",
       "      <td>2019–20</td>\n",
       "      <td>2019–20</td>\n",
       "      <td>NBA</td>\n",
       "      <td>Western</td>\n",
       "      <td>15th</td>\n",
       "      <td>Pacific</td>\n",
       "      <td>5th</td>\n",
       "      <td>15</td>\n",
       "      <td>50</td>\n",
       "      <td>.231</td>\n",
       "      <td>34</td>\n",
       "      <td>NaN</td>\n",
       "      <td>NaN</td>\n",
       "      <td>NaN</td>\n",
       "    </tr>\n",
       "    <tr>\n",
       "      <th>77</th>\n",
       "      <td>2020–21</td>\n",
       "      <td>2020–21</td>\n",
       "      <td>NBA</td>\n",
       "      <td>Western</td>\n",
       "      <td>9th</td>\n",
       "      <td>Pacific</td>\n",
       "      <td>4th</td>\n",
       "      <td>39</td>\n",
       "      <td>33</td>\n",
       "      <td>.542</td>\n",
       "      <td>12</td>\n",
       "      <td>NaN</td>\n",
       "      <td>NaN</td>\n",
       "      <td>NaN</td>\n",
       "    </tr>\n",
       "  </tbody>\n",
       "</table>\n",
       "</div>"
      ],
      "text/plain": [
       "     Season     Team League Conference Finish Division Finish.1  \\\n",
       "69  2012–13  2012–13    NBA    Western    6th  Pacific      2nd   \n",
       "70  2013–14  2013–14    NBA    Western    6th  Pacific      2nd   \n",
       "71  2014–15  2014–15    NBA    Western    1st  Pacific      1st   \n",
       "72  2015–16  2015–16    NBA    Western    1st  Pacific      1st   \n",
       "73  2016–17  2016–17    NBA    Western    1st  Pacific      1st   \n",
       "74  2017–18  2017–18    NBA    Western    2nd  Pacific      1st   \n",
       "75  2018–19  2018–19    NBA    Western    1st  Pacific      1st   \n",
       "76  2019–20  2019–20    NBA    Western   15th  Pacific      5th   \n",
       "77  2020–21  2020–21    NBA    Western    9th  Pacific      4th   \n",
       "\n",
       "   .mw-parser-output .tooltip-dotted{border-bottom:1px dotted;cursor:help}W  \\\n",
       "69                                                 47                         \n",
       "70                                                 51                         \n",
       "71                                                 67                         \n",
       "72                                                 73                         \n",
       "73                                                 67                         \n",
       "74                                                 58                         \n",
       "75                                                 57                         \n",
       "76                                                 15                         \n",
       "77                                                 39                         \n",
       "\n",
       "     L  Win%  GB                                           Playoffs  \\\n",
       "69  35  .573   9  Won First Round (Nuggets) 4–2Lost Conference S...   \n",
       "70  31  .622   6                    Lost First Round (Clippers) 4–3   \n",
       "71  15  .817   —  Won First Round (Pelicans) 4–0Won Conference S...   \n",
       "72   9  .890   —  Won First Round (Rockets) 4–1Won Conference Se...   \n",
       "73  15  .817   —  Won First Round (Trail Blazers) 4–0Won Confere...   \n",
       "74  24  .707   —  Won First Round (Spurs) 4–1Won Conference Semi...   \n",
       "75  25  .695   —  Won First Round (Clippers) 4–2 Won Conference ...   \n",
       "76  50  .231  34                                                NaN   \n",
       "77  33  .542  12                                                NaN   \n",
       "\n",
       "                                               Awards Unnamed: 13  \n",
       "69                                                NaN         NaN  \n",
       "70                                                NaN         NaN  \n",
       "71  Stephen Curry (MVP)Andre Iguodala (FMVP)Bob My...         NaN  \n",
       "72                Stephen Curry (MVP)Steve Kerr (COY)         NaN  \n",
       "73  Kevin Durant (FMVP)Draymond Green (DPOY)Bob My...         NaN  \n",
       "74                                Kevin Durant (FMVP)         NaN  \n",
       "75                                                NaN         NaN  \n",
       "76                                                NaN         NaN  \n",
       "77                                                NaN         NaN  "
      ]
     },
     "metadata": {},
     "output_type": "display_data"
    },
    {
     "data": {
      "text/html": [
       "<div>\n",
       "<style scoped>\n",
       "    .dataframe tbody tr th:only-of-type {\n",
       "        vertical-align: middle;\n",
       "    }\n",
       "\n",
       "    .dataframe tbody tr th {\n",
       "        vertical-align: top;\n",
       "    }\n",
       "\n",
       "    .dataframe thead th {\n",
       "        text-align: right;\n",
       "    }\n",
       "</style>\n",
       "<table border=\"1\" class=\"dataframe\">\n",
       "  <thead>\n",
       "    <tr style=\"text-align: right;\">\n",
       "      <th></th>\n",
       "      <th>Year</th>\n",
       "      <th>Team Name</th>\n",
       "      <th>Wins</th>\n",
       "      <th>Losses</th>\n",
       "      <th>Win %</th>\n",
       "    </tr>\n",
       "  </thead>\n",
       "  <tbody>\n",
       "    <tr>\n",
       "      <th>0</th>\n",
       "      <td>2012</td>\n",
       "      <td>Golden State Warriors</td>\n",
       "      <td>47</td>\n",
       "      <td>35</td>\n",
       "      <td>0.573171</td>\n",
       "    </tr>\n",
       "    <tr>\n",
       "      <th>1</th>\n",
       "      <td>2013</td>\n",
       "      <td>Golden State Warriors</td>\n",
       "      <td>51</td>\n",
       "      <td>31</td>\n",
       "      <td>0.621951</td>\n",
       "    </tr>\n",
       "    <tr>\n",
       "      <th>2</th>\n",
       "      <td>2014</td>\n",
       "      <td>Golden State Warriors</td>\n",
       "      <td>67</td>\n",
       "      <td>15</td>\n",
       "      <td>0.817073</td>\n",
       "    </tr>\n",
       "    <tr>\n",
       "      <th>3</th>\n",
       "      <td>2015</td>\n",
       "      <td>Golden State Warriors</td>\n",
       "      <td>73</td>\n",
       "      <td>9</td>\n",
       "      <td>0.890244</td>\n",
       "    </tr>\n",
       "    <tr>\n",
       "      <th>4</th>\n",
       "      <td>2016</td>\n",
       "      <td>Golden State Warriors</td>\n",
       "      <td>67</td>\n",
       "      <td>15</td>\n",
       "      <td>0.817073</td>\n",
       "    </tr>\n",
       "    <tr>\n",
       "      <th>5</th>\n",
       "      <td>2017</td>\n",
       "      <td>Golden State Warriors</td>\n",
       "      <td>58</td>\n",
       "      <td>24</td>\n",
       "      <td>0.707317</td>\n",
       "    </tr>\n",
       "    <tr>\n",
       "      <th>6</th>\n",
       "      <td>2018</td>\n",
       "      <td>Golden State Warriors</td>\n",
       "      <td>57</td>\n",
       "      <td>25</td>\n",
       "      <td>0.695122</td>\n",
       "    </tr>\n",
       "    <tr>\n",
       "      <th>7</th>\n",
       "      <td>2019</td>\n",
       "      <td>Golden State Warriors</td>\n",
       "      <td>15</td>\n",
       "      <td>50</td>\n",
       "      <td>0.230769</td>\n",
       "    </tr>\n",
       "    <tr>\n",
       "      <th>8</th>\n",
       "      <td>2020</td>\n",
       "      <td>Golden State Warriors</td>\n",
       "      <td>39</td>\n",
       "      <td>33</td>\n",
       "      <td>0.541667</td>\n",
       "    </tr>\n",
       "  </tbody>\n",
       "</table>\n",
       "</div>"
      ],
      "text/plain": [
       "   Year              Team Name  Wins  Losses     Win %\n",
       "0  2012  Golden State Warriors    47      35  0.573171\n",
       "1  2013  Golden State Warriors    51      31  0.621951\n",
       "2  2014  Golden State Warriors    67      15  0.817073\n",
       "3  2015  Golden State Warriors    73       9  0.890244\n",
       "4  2016  Golden State Warriors    67      15  0.817073\n",
       "5  2017  Golden State Warriors    58      24  0.707317\n",
       "6  2018  Golden State Warriors    57      25  0.695122\n",
       "7  2019  Golden State Warriors    15      50  0.230769\n",
       "8  2020  Golden State Warriors    39      33  0.541667"
      ]
     },
     "metadata": {},
     "output_type": "display_data"
    }
   ],
   "source": [
    "df_gsw = pd.read_html(dict_data[\"GSW\"])[2][69:78]\n",
    "display(df_gsw)\n",
    "\n",
    "\n",
    "pd_gsw = pd.DataFrame()\n",
    "pd_gsw['Year'] = df_gsw['Season'].str[:4]\n",
    "pd_gsw[['Wins','Losses']] = df_gsw[['.mw-parser-output .tooltip-dotted{border-bottom:1px dotted;cursor:help}W','L']]\n",
    "\n",
    "pd_gsw['Wins'] = pd_gsw['Wins'].astype(int)\n",
    "\n",
    "pd_gsw['Losses'] = pd_gsw['Losses'].astype(int)\n",
    "\n",
    "pd_gsw['Win %'] = pd_gsw['Wins']/(pd_gsw['Losses']+pd_gsw['Wins'])\n",
    "\n",
    "\n",
    "pd_gsw = pd_gsw.set_index('Year')\n",
    "pd_gsw[\"Team Name\"] = \"Golden State Warriors\"\n",
    "pd_gsw = pd_gsw[[\"Team Name\", \"Wins\", \"Losses\", \"Win %\"]]\n",
    "\n",
    "pd_gsw = pd_gsw.reset_index()\n",
    "display(pd_gsw)"
   ]
  },
  {
   "cell_type": "markdown",
   "metadata": {},
   "source": [
    "**Milwaukee Bucks**"
   ]
  },
  {
   "cell_type": "code",
   "execution_count": 5,
   "metadata": {},
   "outputs": [
    {
     "data": {
      "text/html": [
       "<div>\n",
       "<style scoped>\n",
       "    .dataframe tbody tr th:only-of-type {\n",
       "        vertical-align: middle;\n",
       "    }\n",
       "\n",
       "    .dataframe tbody tr th {\n",
       "        vertical-align: top;\n",
       "    }\n",
       "\n",
       "    .dataframe thead th {\n",
       "        text-align: right;\n",
       "    }\n",
       "</style>\n",
       "<table border=\"1\" class=\"dataframe\">\n",
       "  <thead>\n",
       "    <tr style=\"text-align: right;\">\n",
       "      <th></th>\n",
       "      <th>Season</th>\n",
       "      <th>League</th>\n",
       "      <th>Conference</th>\n",
       "      <th>Finish</th>\n",
       "      <th>Division</th>\n",
       "      <th>Finish.1</th>\n",
       "      <th>Wins</th>\n",
       "      <th>Losses</th>\n",
       "      <th>Win%</th>\n",
       "      <th>GB</th>\n",
       "      <th>Playoffs</th>\n",
       "      <th>Awards</th>\n",
       "      <th>Unnamed: 12</th>\n",
       "    </tr>\n",
       "  </thead>\n",
       "  <tbody>\n",
       "    <tr>\n",
       "      <th>44</th>\n",
       "      <td>2012–13</td>\n",
       "      <td>NBA</td>\n",
       "      <td>Eastern</td>\n",
       "      <td>8th</td>\n",
       "      <td>Central</td>\n",
       "      <td>3rd</td>\n",
       "      <td>38</td>\n",
       "      <td>44</td>\n",
       "      <td>0.463</td>\n",
       "      <td>11½</td>\n",
       "      <td>Lost First Round (Heat) 4–0</td>\n",
       "      <td>NaN</td>\n",
       "      <td>NaN</td>\n",
       "    </tr>\n",
       "    <tr>\n",
       "      <th>45</th>\n",
       "      <td>2013–14</td>\n",
       "      <td>NBA</td>\n",
       "      <td>Eastern</td>\n",
       "      <td>15th</td>\n",
       "      <td>Central</td>\n",
       "      <td>5th</td>\n",
       "      <td>15</td>\n",
       "      <td>67</td>\n",
       "      <td>0.183</td>\n",
       "      <td>41</td>\n",
       "      <td>NaN</td>\n",
       "      <td>NaN</td>\n",
       "      <td>NaN</td>\n",
       "    </tr>\n",
       "    <tr>\n",
       "      <th>46</th>\n",
       "      <td>2014–15</td>\n",
       "      <td>NBA</td>\n",
       "      <td>Eastern</td>\n",
       "      <td>6th</td>\n",
       "      <td>Central</td>\n",
       "      <td>3rd</td>\n",
       "      <td>41</td>\n",
       "      <td>41</td>\n",
       "      <td>0.500</td>\n",
       "      <td>12</td>\n",
       "      <td>Lost First Round (Bulls) 4–2</td>\n",
       "      <td>NaN</td>\n",
       "      <td>NaN</td>\n",
       "    </tr>\n",
       "    <tr>\n",
       "      <th>47</th>\n",
       "      <td>2015–16</td>\n",
       "      <td>NBA</td>\n",
       "      <td>Eastern</td>\n",
       "      <td>12th</td>\n",
       "      <td>Central</td>\n",
       "      <td>5th</td>\n",
       "      <td>33</td>\n",
       "      <td>49</td>\n",
       "      <td>0.402</td>\n",
       "      <td>24</td>\n",
       "      <td>NaN</td>\n",
       "      <td>NaN</td>\n",
       "      <td>NaN</td>\n",
       "    </tr>\n",
       "    <tr>\n",
       "      <th>48</th>\n",
       "      <td>2016–17</td>\n",
       "      <td>NBA</td>\n",
       "      <td>Eastern</td>\n",
       "      <td>6th</td>\n",
       "      <td>Central</td>\n",
       "      <td>2nd</td>\n",
       "      <td>42</td>\n",
       "      <td>40</td>\n",
       "      <td>0.512</td>\n",
       "      <td>11</td>\n",
       "      <td>Lost First Round (Raptors) 4–2</td>\n",
       "      <td>Giannis Antetokounmpo (MIP)Malcolm Brogdon (ROY)</td>\n",
       "      <td>NaN</td>\n",
       "    </tr>\n",
       "    <tr>\n",
       "      <th>49</th>\n",
       "      <td>2017–18</td>\n",
       "      <td>NBA</td>\n",
       "      <td>Eastern</td>\n",
       "      <td>7th</td>\n",
       "      <td>Central</td>\n",
       "      <td>3rd</td>\n",
       "      <td>44</td>\n",
       "      <td>38</td>\n",
       "      <td>0.537</td>\n",
       "      <td>15</td>\n",
       "      <td>Lost First Round (Celtics) 4–3</td>\n",
       "      <td>NaN</td>\n",
       "      <td>NaN</td>\n",
       "    </tr>\n",
       "    <tr>\n",
       "      <th>50</th>\n",
       "      <td>2018–19</td>\n",
       "      <td>NBA</td>\n",
       "      <td>Eastern</td>\n",
       "      <td>1st</td>\n",
       "      <td>Central</td>\n",
       "      <td>1st</td>\n",
       "      <td>60</td>\n",
       "      <td>22</td>\n",
       "      <td>0.732</td>\n",
       "      <td>—</td>\n",
       "      <td>Won First Round (Pistons) 4–0 Won Conference S...</td>\n",
       "      <td>Giannis Antetokounmpo (MVP)Mike Budenholzer (C...</td>\n",
       "      <td>NaN</td>\n",
       "    </tr>\n",
       "    <tr>\n",
       "      <th>51</th>\n",
       "      <td>2019–20</td>\n",
       "      <td>NBA</td>\n",
       "      <td>Eastern</td>\n",
       "      <td>1st</td>\n",
       "      <td>Central</td>\n",
       "      <td>1st</td>\n",
       "      <td>56</td>\n",
       "      <td>17</td>\n",
       "      <td>0.767</td>\n",
       "      <td>—</td>\n",
       "      <td>Won First Round (Magic) 4–1 Lost Conference Se...</td>\n",
       "      <td>Giannis Antetokounmpo (MVP, DPoY)</td>\n",
       "      <td>NaN</td>\n",
       "    </tr>\n",
       "    <tr>\n",
       "      <th>52</th>\n",
       "      <td>2020–21</td>\n",
       "      <td>NBA</td>\n",
       "      <td>Eastern</td>\n",
       "      <td>3rd</td>\n",
       "      <td>Central</td>\n",
       "      <td>1st</td>\n",
       "      <td>46</td>\n",
       "      <td>26</td>\n",
       "      <td>0.639</td>\n",
       "      <td>–</td>\n",
       "      <td>Won First Round (Heat) 4–0 Won Conference Semi...</td>\n",
       "      <td>Giannis Antetokounmpo (ASG MVP, FMVP)</td>\n",
       "      <td>NaN</td>\n",
       "    </tr>\n",
       "  </tbody>\n",
       "</table>\n",
       "</div>"
      ],
      "text/plain": [
       "     Season League Conference Finish Division Finish.1  Wins  Losses   Win%  \\\n",
       "44  2012–13    NBA    Eastern    8th  Central      3rd    38      44  0.463   \n",
       "45  2013–14    NBA    Eastern   15th  Central      5th    15      67  0.183   \n",
       "46  2014–15    NBA    Eastern    6th  Central      3rd    41      41  0.500   \n",
       "47  2015–16    NBA    Eastern   12th  Central      5th    33      49  0.402   \n",
       "48  2016–17    NBA    Eastern    6th  Central      2nd    42      40  0.512   \n",
       "49  2017–18    NBA    Eastern    7th  Central      3rd    44      38  0.537   \n",
       "50  2018–19    NBA    Eastern    1st  Central      1st    60      22  0.732   \n",
       "51  2019–20    NBA    Eastern    1st  Central      1st    56      17  0.767   \n",
       "52  2020–21    NBA    Eastern    3rd  Central      1st    46      26  0.639   \n",
       "\n",
       "     GB                                           Playoffs  \\\n",
       "44  11½                        Lost First Round (Heat) 4–0   \n",
       "45   41                                                NaN   \n",
       "46   12                       Lost First Round (Bulls) 4–2   \n",
       "47   24                                                NaN   \n",
       "48   11                     Lost First Round (Raptors) 4–2   \n",
       "49   15                     Lost First Round (Celtics) 4–3   \n",
       "50    —  Won First Round (Pistons) 4–0 Won Conference S...   \n",
       "51    —  Won First Round (Magic) 4–1 Lost Conference Se...   \n",
       "52    –  Won First Round (Heat) 4–0 Won Conference Semi...   \n",
       "\n",
       "                                               Awards Unnamed: 12  \n",
       "44                                                NaN         NaN  \n",
       "45                                                NaN         NaN  \n",
       "46                                                NaN         NaN  \n",
       "47                                                NaN         NaN  \n",
       "48   Giannis Antetokounmpo (MIP)Malcolm Brogdon (ROY)         NaN  \n",
       "49                                                NaN         NaN  \n",
       "50  Giannis Antetokounmpo (MVP)Mike Budenholzer (C...         NaN  \n",
       "51                  Giannis Antetokounmpo (MVP, DPoY)         NaN  \n",
       "52              Giannis Antetokounmpo (ASG MVP, FMVP)         NaN  "
      ]
     },
     "metadata": {},
     "output_type": "display_data"
    },
    {
     "data": {
      "text/html": [
       "<div>\n",
       "<style scoped>\n",
       "    .dataframe tbody tr th:only-of-type {\n",
       "        vertical-align: middle;\n",
       "    }\n",
       "\n",
       "    .dataframe tbody tr th {\n",
       "        vertical-align: top;\n",
       "    }\n",
       "\n",
       "    .dataframe thead th {\n",
       "        text-align: right;\n",
       "    }\n",
       "</style>\n",
       "<table border=\"1\" class=\"dataframe\">\n",
       "  <thead>\n",
       "    <tr style=\"text-align: right;\">\n",
       "      <th></th>\n",
       "      <th>Year</th>\n",
       "      <th>Team Name</th>\n",
       "      <th>Wins</th>\n",
       "      <th>Losses</th>\n",
       "      <th>Win %</th>\n",
       "    </tr>\n",
       "  </thead>\n",
       "  <tbody>\n",
       "    <tr>\n",
       "      <th>0</th>\n",
       "      <td>2012</td>\n",
       "      <td>Milwaukee Bucks</td>\n",
       "      <td>38</td>\n",
       "      <td>44</td>\n",
       "      <td>0.463415</td>\n",
       "    </tr>\n",
       "    <tr>\n",
       "      <th>1</th>\n",
       "      <td>2013</td>\n",
       "      <td>Milwaukee Bucks</td>\n",
       "      <td>15</td>\n",
       "      <td>67</td>\n",
       "      <td>0.182927</td>\n",
       "    </tr>\n",
       "    <tr>\n",
       "      <th>2</th>\n",
       "      <td>2014</td>\n",
       "      <td>Milwaukee Bucks</td>\n",
       "      <td>41</td>\n",
       "      <td>41</td>\n",
       "      <td>0.500000</td>\n",
       "    </tr>\n",
       "    <tr>\n",
       "      <th>3</th>\n",
       "      <td>2015</td>\n",
       "      <td>Milwaukee Bucks</td>\n",
       "      <td>33</td>\n",
       "      <td>49</td>\n",
       "      <td>0.402439</td>\n",
       "    </tr>\n",
       "    <tr>\n",
       "      <th>4</th>\n",
       "      <td>2016</td>\n",
       "      <td>Milwaukee Bucks</td>\n",
       "      <td>42</td>\n",
       "      <td>40</td>\n",
       "      <td>0.512195</td>\n",
       "    </tr>\n",
       "    <tr>\n",
       "      <th>5</th>\n",
       "      <td>2017</td>\n",
       "      <td>Milwaukee Bucks</td>\n",
       "      <td>44</td>\n",
       "      <td>38</td>\n",
       "      <td>0.536585</td>\n",
       "    </tr>\n",
       "    <tr>\n",
       "      <th>6</th>\n",
       "      <td>2018</td>\n",
       "      <td>Milwaukee Bucks</td>\n",
       "      <td>60</td>\n",
       "      <td>22</td>\n",
       "      <td>0.731707</td>\n",
       "    </tr>\n",
       "    <tr>\n",
       "      <th>7</th>\n",
       "      <td>2019</td>\n",
       "      <td>Milwaukee Bucks</td>\n",
       "      <td>56</td>\n",
       "      <td>17</td>\n",
       "      <td>0.767123</td>\n",
       "    </tr>\n",
       "    <tr>\n",
       "      <th>8</th>\n",
       "      <td>2020</td>\n",
       "      <td>Milwaukee Bucks</td>\n",
       "      <td>46</td>\n",
       "      <td>26</td>\n",
       "      <td>0.638889</td>\n",
       "    </tr>\n",
       "  </tbody>\n",
       "</table>\n",
       "</div>"
      ],
      "text/plain": [
       "   Year        Team Name  Wins  Losses     Win %\n",
       "0  2012  Milwaukee Bucks    38      44  0.463415\n",
       "1  2013  Milwaukee Bucks    15      67  0.182927\n",
       "2  2014  Milwaukee Bucks    41      41  0.500000\n",
       "3  2015  Milwaukee Bucks    33      49  0.402439\n",
       "4  2016  Milwaukee Bucks    42      40  0.512195\n",
       "5  2017  Milwaukee Bucks    44      38  0.536585\n",
       "6  2018  Milwaukee Bucks    60      22  0.731707\n",
       "7  2019  Milwaukee Bucks    56      17  0.767123\n",
       "8  2020  Milwaukee Bucks    46      26  0.638889"
      ]
     },
     "metadata": {},
     "output_type": "display_data"
    }
   ],
   "source": [
    "df_mil = pd.read_html(dict_data[\"MIL\"])[1][44:53]\n",
    "display(df_mil)\n",
    "\n",
    "\n",
    "pd_mil = pd.DataFrame()\n",
    "pd_mil['Year'] = df_mil['Season'].str[:4]\n",
    "pd_mil[['Wins','Losses']] = df_mil[['Wins','Losses']]\n",
    "\n",
    "pd_mil['Wins'] = pd_mil['Wins'].astype(int)\n",
    "\n",
    "pd_mil['Losses'] = pd_mil['Losses'].astype(int)\n",
    "\n",
    "pd_mil['Win %'] = pd_mil['Wins']/(pd_mil['Losses']+pd_mil['Wins'])\n",
    "\n",
    "\n",
    "pd_mil = pd_mil.set_index('Year')\n",
    "pd_mil[\"Team Name\"] = \"Milwaukee Bucks\"\n",
    "pd_mil = pd_mil[[\"Team Name\", \"Wins\", \"Losses\", \"Win %\"]]\n",
    "\n",
    "pd_mil = pd_mil.reset_index()\n",
    "display(pd_mil)"
   ]
  },
  {
   "cell_type": "markdown",
   "metadata": {},
   "source": [
    "Phoenix Suns"
   ]
  },
  {
   "cell_type": "code",
   "execution_count": 6,
   "metadata": {},
   "outputs": [
    {
     "data": {
      "text/html": [
       "<div>\n",
       "<style scoped>\n",
       "    .dataframe tbody tr th:only-of-type {\n",
       "        vertical-align: middle;\n",
       "    }\n",
       "\n",
       "    .dataframe tbody tr th {\n",
       "        vertical-align: top;\n",
       "    }\n",
       "\n",
       "    .dataframe thead th {\n",
       "        text-align: right;\n",
       "    }\n",
       "</style>\n",
       "<table border=\"1\" class=\"dataframe\">\n",
       "  <thead>\n",
       "    <tr style=\"text-align: right;\">\n",
       "      <th></th>\n",
       "      <th>Season</th>\n",
       "      <th>League</th>\n",
       "      <th>Conference</th>\n",
       "      <th>Finish</th>\n",
       "      <th>Division</th>\n",
       "      <th>Finish.1</th>\n",
       "      <th>Wins</th>\n",
       "      <th>Losses</th>\n",
       "      <th>Win%</th>\n",
       "      <th>GB</th>\n",
       "      <th>Playoffs</th>\n",
       "      <th>Awards[4]</th>\n",
       "    </tr>\n",
       "  </thead>\n",
       "  <tbody>\n",
       "    <tr>\n",
       "      <th>44</th>\n",
       "      <td>2012–13</td>\n",
       "      <td>NBA</td>\n",
       "      <td>Western</td>\n",
       "      <td>15th</td>\n",
       "      <td>Pacific</td>\n",
       "      <td>5th</td>\n",
       "      <td>25</td>\n",
       "      <td>57</td>\n",
       "      <td>0.305</td>\n",
       "      <td>32.0</td>\n",
       "      <td>NaN</td>\n",
       "      <td>NaN</td>\n",
       "    </tr>\n",
       "    <tr>\n",
       "      <th>45</th>\n",
       "      <td>2013–14</td>\n",
       "      <td>NBA</td>\n",
       "      <td>Western</td>\n",
       "      <td>9th</td>\n",
       "      <td>Pacific</td>\n",
       "      <td>3rd</td>\n",
       "      <td>48</td>\n",
       "      <td>34</td>\n",
       "      <td>0.585</td>\n",
       "      <td>9.0</td>\n",
       "      <td>NaN</td>\n",
       "      <td>Goran Dragić (MIP)</td>\n",
       "    </tr>\n",
       "    <tr>\n",
       "      <th>46</th>\n",
       "      <td>2014–15</td>\n",
       "      <td>NBA</td>\n",
       "      <td>Western</td>\n",
       "      <td>10th</td>\n",
       "      <td>Pacific</td>\n",
       "      <td>3rd</td>\n",
       "      <td>39</td>\n",
       "      <td>43</td>\n",
       "      <td>0.476</td>\n",
       "      <td>28.0</td>\n",
       "      <td>NaN</td>\n",
       "      <td>NaN</td>\n",
       "    </tr>\n",
       "    <tr>\n",
       "      <th>47</th>\n",
       "      <td>2015–16</td>\n",
       "      <td>NBA</td>\n",
       "      <td>Western</td>\n",
       "      <td>14th</td>\n",
       "      <td>Pacific</td>\n",
       "      <td>4th</td>\n",
       "      <td>23</td>\n",
       "      <td>59</td>\n",
       "      <td>0.280</td>\n",
       "      <td>50.0</td>\n",
       "      <td>NaN</td>\n",
       "      <td>NaN</td>\n",
       "    </tr>\n",
       "    <tr>\n",
       "      <th>48</th>\n",
       "      <td>2016–17</td>\n",
       "      <td>NBA</td>\n",
       "      <td>Western</td>\n",
       "      <td>15th</td>\n",
       "      <td>Pacific</td>\n",
       "      <td>5th</td>\n",
       "      <td>24</td>\n",
       "      <td>58</td>\n",
       "      <td>0.293</td>\n",
       "      <td>43.0</td>\n",
       "      <td>NaN</td>\n",
       "      <td>NaN</td>\n",
       "    </tr>\n",
       "    <tr>\n",
       "      <th>49</th>\n",
       "      <td>2017–18</td>\n",
       "      <td>NBA</td>\n",
       "      <td>Western</td>\n",
       "      <td>15th</td>\n",
       "      <td>Pacific</td>\n",
       "      <td>5th</td>\n",
       "      <td>21</td>\n",
       "      <td>61</td>\n",
       "      <td>0.256</td>\n",
       "      <td>37.0</td>\n",
       "      <td>NaN</td>\n",
       "      <td>NaN</td>\n",
       "    </tr>\n",
       "    <tr>\n",
       "      <th>50</th>\n",
       "      <td>2018–19</td>\n",
       "      <td>NBA</td>\n",
       "      <td>Western</td>\n",
       "      <td>15th</td>\n",
       "      <td>Pacific</td>\n",
       "      <td>5th</td>\n",
       "      <td>19</td>\n",
       "      <td>63</td>\n",
       "      <td>0.232</td>\n",
       "      <td>38.0</td>\n",
       "      <td>NaN</td>\n",
       "      <td>NaN</td>\n",
       "    </tr>\n",
       "    <tr>\n",
       "      <th>51</th>\n",
       "      <td>2019–20</td>\n",
       "      <td>NBA</td>\n",
       "      <td>Western</td>\n",
       "      <td>10th</td>\n",
       "      <td>Pacific</td>\n",
       "      <td>3rd</td>\n",
       "      <td>34</td>\n",
       "      <td>39</td>\n",
       "      <td>0.466</td>\n",
       "      <td>19.0</td>\n",
       "      <td>NaN</td>\n",
       "      <td>NaN</td>\n",
       "    </tr>\n",
       "    <tr>\n",
       "      <th>52</th>\n",
       "      <td>2020–21</td>\n",
       "      <td>NBA</td>\n",
       "      <td>Western</td>\n",
       "      <td>2nd</td>\n",
       "      <td>Pacific</td>\n",
       "      <td>1st</td>\n",
       "      <td>51</td>\n",
       "      <td>21</td>\n",
       "      <td>0.708</td>\n",
       "      <td>NaN</td>\n",
       "      <td>Won First Round (Lakers) 4–2 Won Conference Se...</td>\n",
       "      <td>NaN</td>\n",
       "    </tr>\n",
       "  </tbody>\n",
       "</table>\n",
       "</div>"
      ],
      "text/plain": [
       "     Season League Conference Finish Division Finish.1  Wins  Losses   Win%  \\\n",
       "44  2012–13    NBA    Western   15th  Pacific      5th    25      57  0.305   \n",
       "45  2013–14    NBA    Western    9th  Pacific      3rd    48      34  0.585   \n",
       "46  2014–15    NBA    Western   10th  Pacific      3rd    39      43  0.476   \n",
       "47  2015–16    NBA    Western   14th  Pacific      4th    23      59  0.280   \n",
       "48  2016–17    NBA    Western   15th  Pacific      5th    24      58  0.293   \n",
       "49  2017–18    NBA    Western   15th  Pacific      5th    21      61  0.256   \n",
       "50  2018–19    NBA    Western   15th  Pacific      5th    19      63  0.232   \n",
       "51  2019–20    NBA    Western   10th  Pacific      3rd    34      39  0.466   \n",
       "52  2020–21    NBA    Western    2nd  Pacific      1st    51      21  0.708   \n",
       "\n",
       "      GB                                           Playoffs  \\\n",
       "44  32.0                                                NaN   \n",
       "45   9.0                                                NaN   \n",
       "46  28.0                                                NaN   \n",
       "47  50.0                                                NaN   \n",
       "48  43.0                                                NaN   \n",
       "49  37.0                                                NaN   \n",
       "50  38.0                                                NaN   \n",
       "51  19.0                                                NaN   \n",
       "52   NaN  Won First Round (Lakers) 4–2 Won Conference Se...   \n",
       "\n",
       "             Awards[4]  \n",
       "44                 NaN  \n",
       "45  Goran Dragić (MIP)  \n",
       "46                 NaN  \n",
       "47                 NaN  \n",
       "48                 NaN  \n",
       "49                 NaN  \n",
       "50                 NaN  \n",
       "51                 NaN  \n",
       "52                 NaN  "
      ]
     },
     "metadata": {},
     "output_type": "display_data"
    },
    {
     "data": {
      "text/html": [
       "<div>\n",
       "<style scoped>\n",
       "    .dataframe tbody tr th:only-of-type {\n",
       "        vertical-align: middle;\n",
       "    }\n",
       "\n",
       "    .dataframe tbody tr th {\n",
       "        vertical-align: top;\n",
       "    }\n",
       "\n",
       "    .dataframe thead th {\n",
       "        text-align: right;\n",
       "    }\n",
       "</style>\n",
       "<table border=\"1\" class=\"dataframe\">\n",
       "  <thead>\n",
       "    <tr style=\"text-align: right;\">\n",
       "      <th></th>\n",
       "      <th>Year</th>\n",
       "      <th>Team Name</th>\n",
       "      <th>Wins</th>\n",
       "      <th>Losses</th>\n",
       "      <th>Win %</th>\n",
       "    </tr>\n",
       "  </thead>\n",
       "  <tbody>\n",
       "    <tr>\n",
       "      <th>0</th>\n",
       "      <td>2012</td>\n",
       "      <td>Phoenix Suns</td>\n",
       "      <td>25</td>\n",
       "      <td>57</td>\n",
       "      <td>0.304878</td>\n",
       "    </tr>\n",
       "    <tr>\n",
       "      <th>1</th>\n",
       "      <td>2013</td>\n",
       "      <td>Phoenix Suns</td>\n",
       "      <td>48</td>\n",
       "      <td>34</td>\n",
       "      <td>0.585366</td>\n",
       "    </tr>\n",
       "    <tr>\n",
       "      <th>2</th>\n",
       "      <td>2014</td>\n",
       "      <td>Phoenix Suns</td>\n",
       "      <td>39</td>\n",
       "      <td>43</td>\n",
       "      <td>0.475610</td>\n",
       "    </tr>\n",
       "    <tr>\n",
       "      <th>3</th>\n",
       "      <td>2015</td>\n",
       "      <td>Phoenix Suns</td>\n",
       "      <td>23</td>\n",
       "      <td>59</td>\n",
       "      <td>0.280488</td>\n",
       "    </tr>\n",
       "    <tr>\n",
       "      <th>4</th>\n",
       "      <td>2016</td>\n",
       "      <td>Phoenix Suns</td>\n",
       "      <td>24</td>\n",
       "      <td>58</td>\n",
       "      <td>0.292683</td>\n",
       "    </tr>\n",
       "    <tr>\n",
       "      <th>5</th>\n",
       "      <td>2017</td>\n",
       "      <td>Phoenix Suns</td>\n",
       "      <td>21</td>\n",
       "      <td>61</td>\n",
       "      <td>0.256098</td>\n",
       "    </tr>\n",
       "    <tr>\n",
       "      <th>6</th>\n",
       "      <td>2018</td>\n",
       "      <td>Phoenix Suns</td>\n",
       "      <td>19</td>\n",
       "      <td>63</td>\n",
       "      <td>0.231707</td>\n",
       "    </tr>\n",
       "    <tr>\n",
       "      <th>7</th>\n",
       "      <td>2019</td>\n",
       "      <td>Phoenix Suns</td>\n",
       "      <td>34</td>\n",
       "      <td>39</td>\n",
       "      <td>0.465753</td>\n",
       "    </tr>\n",
       "    <tr>\n",
       "      <th>8</th>\n",
       "      <td>2020</td>\n",
       "      <td>Phoenix Suns</td>\n",
       "      <td>51</td>\n",
       "      <td>21</td>\n",
       "      <td>0.708333</td>\n",
       "    </tr>\n",
       "  </tbody>\n",
       "</table>\n",
       "</div>"
      ],
      "text/plain": [
       "   Year     Team Name  Wins  Losses     Win %\n",
       "0  2012  Phoenix Suns    25      57  0.304878\n",
       "1  2013  Phoenix Suns    48      34  0.585366\n",
       "2  2014  Phoenix Suns    39      43  0.475610\n",
       "3  2015  Phoenix Suns    23      59  0.280488\n",
       "4  2016  Phoenix Suns    24      58  0.292683\n",
       "5  2017  Phoenix Suns    21      61  0.256098\n",
       "6  2018  Phoenix Suns    19      63  0.231707\n",
       "7  2019  Phoenix Suns    34      39  0.465753\n",
       "8  2020  Phoenix Suns    51      21  0.708333"
      ]
     },
     "metadata": {},
     "output_type": "display_data"
    }
   ],
   "source": [
    "df_phx = pd.read_html(dict_data[\"PHX\"])[2][44:53]\n",
    "display(df_phx)\n",
    "\n",
    "\n",
    "pd_phx = pd.DataFrame()\n",
    "pd_phx['Year'] = df_phx['Season'].str[:4]\n",
    "pd_phx[['Wins','Losses']] = df_phx[['Wins','Losses']]\n",
    "\n",
    "pd_phx['Wins'] = pd_phx['Wins'].astype(int)\n",
    "\n",
    "pd_phx['Losses'] = pd_phx['Losses'].astype(int)\n",
    "\n",
    "pd_phx['Win %'] = pd_phx['Wins']/(pd_phx['Losses']+pd_phx['Wins'])\n",
    "\n",
    "\n",
    "pd_phx = pd_phx.set_index('Year')\n",
    "pd_phx[\"Team Name\"] = \"Phoenix Suns\"\n",
    "pd_phx = pd_phx[[\"Team Name\", \"Wins\", \"Losses\", \"Win %\"]]\n",
    "\n",
    "pd_phx = pd_phx.reset_index()\n",
    "display(pd_phx)\n"
   ]
  },
  {
   "cell_type": "code",
   "execution_count": 12,
   "metadata": {},
   "outputs": [
    {
     "ename": "TypeError",
     "evalue": "merge() got multiple values for argument 'on'",
     "output_type": "error",
     "traceback": [
      "\u001b[1;31m---------------------------------------------------------------------------\u001b[0m",
      "\u001b[1;31mTypeError\u001b[0m                                 Traceback (most recent call last)",
      "\u001b[1;32m<ipython-input-12-fc7f29014867>\u001b[0m in \u001b[0;36m<module>\u001b[1;34m\u001b[0m\n\u001b[0;32m      1\u001b[0m \u001b[1;31m# Merging data\u001b[0m\u001b[1;33m\u001b[0m\u001b[1;33m\u001b[0m\u001b[1;33m\u001b[0m\u001b[0m\n\u001b[1;32m----> 2\u001b[1;33m NBA_favorites = pd.merge(pd_phx.drop(['Wins','Losses'], axis=1),\n\u001b[0m\u001b[0;32m      3\u001b[0m                          \u001b[0mpd_gsw\u001b[0m\u001b[1;33m.\u001b[0m\u001b[0mdrop\u001b[0m\u001b[1;33m(\u001b[0m\u001b[1;33m[\u001b[0m\u001b[1;34m'Wins'\u001b[0m\u001b[1;33m,\u001b[0m\u001b[1;34m'Losses'\u001b[0m\u001b[1;33m]\u001b[0m\u001b[1;33m,\u001b[0m \u001b[0maxis\u001b[0m\u001b[1;33m=\u001b[0m\u001b[1;36m1\u001b[0m\u001b[1;33m)\u001b[0m\u001b[1;33m,\u001b[0m\u001b[1;33m\u001b[0m\u001b[1;33m\u001b[0m\u001b[0m\n\u001b[0;32m      4\u001b[0m                          \u001b[0mpd_brooklyn\u001b[0m\u001b[1;33m.\u001b[0m\u001b[0mdrop\u001b[0m\u001b[1;33m(\u001b[0m\u001b[1;33m[\u001b[0m\u001b[1;34m'Wins'\u001b[0m\u001b[1;33m,\u001b[0m\u001b[1;34m'Losses'\u001b[0m\u001b[1;33m]\u001b[0m\u001b[1;33m,\u001b[0m \u001b[0maxis\u001b[0m\u001b[1;33m=\u001b[0m\u001b[1;36m1\u001b[0m\u001b[1;33m)\u001b[0m\u001b[1;33m,\u001b[0m\u001b[1;33m\u001b[0m\u001b[1;33m\u001b[0m\u001b[0m\n\u001b[0;32m      5\u001b[0m                          \u001b[0mpd_mil\u001b[0m\u001b[1;33m.\u001b[0m\u001b[0mdrop\u001b[0m\u001b[1;33m(\u001b[0m\u001b[1;33m[\u001b[0m\u001b[1;34m'Wins'\u001b[0m\u001b[1;33m,\u001b[0m\u001b[1;34m'Losses'\u001b[0m\u001b[1;33m]\u001b[0m\u001b[1;33m,\u001b[0m \u001b[0maxis\u001b[0m\u001b[1;33m=\u001b[0m\u001b[1;36m1\u001b[0m\u001b[1;33m)\u001b[0m\u001b[1;33m,\u001b[0m \u001b[0mon\u001b[0m\u001b[1;33m=\u001b[0m\u001b[1;34m'Year'\u001b[0m\u001b[1;33m\u001b[0m\u001b[1;33m\u001b[0m\u001b[0m\n",
      "\u001b[1;31mTypeError\u001b[0m: merge() got multiple values for argument 'on'"
     ]
    }
   ],
   "source": [
    "# Merging data\n",
    "NBA_favorites = pd.merge(pd_phx.drop(['Wins','Losses'], axis=1),\n",
    "                         pd_gsw.drop(['Wins','Losses'], axis=1),\n",
    "                         pd_brooklyn.drop(['Wins','Losses'], axis=1),\n",
    "                         pd_mil.drop(['Wins','Losses'], axis=1), on='Year'\n",
    "                        )\n",
    "display(NBA_favorites)"
   ]
  },
  {
   "cell_type": "markdown",
   "metadata": {},
   "source": [
    "Research Question"
   ]
  },
  {
   "cell_type": "code",
   "execution_count": 46,
   "metadata": {},
   "outputs": [
    {
     "data": {
      "application/vnd.plotly.v1+json": {
       "config": {
        "plotlyServerURL": "https://plot.ly"
       },
       "data": [
        {
         "mode": "markers+lines",
         "name": "Phoenix Suns",
         "type": "scatter",
         "x": [
          "2012",
          "2013",
          "2014",
          "2015",
          "2016",
          "2017",
          "2018",
          "2019",
          "2020"
         ],
         "y": [
          0.3048780487804878,
          0.5853658536585366,
          0.47560975609756095,
          0.2804878048780488,
          0.2926829268292683,
          0.25609756097560976,
          0.23170731707317074,
          0.4657534246575342,
          0.7083333333333334
         ]
        },
        {
         "mode": "markers+lines",
         "name": "Milwaukee Bucks",
         "type": "scatter",
         "x": [
          "2012",
          "2013",
          "2014",
          "2015",
          "2016",
          "2017",
          "2018",
          "2019",
          "2020"
         ],
         "y": [
          0.4634146341463415,
          0.18292682926829268,
          0.5,
          0.4024390243902439,
          0.5121951219512195,
          0.5365853658536586,
          0.7317073170731707,
          0.7671232876712328,
          0.6388888888888888
         ]
        },
        {
         "mode": "markers+lines",
         "name": "Brooklyn Nets",
         "type": "scatter",
         "x": [
          "2012",
          "2013",
          "2014",
          "2015",
          "2016",
          "2017",
          "2018",
          "2019",
          "2020"
         ],
         "y": [
          0.5975609756097561,
          0.5365853658536586,
          0.4634146341463415,
          0.25609756097560976,
          0.24390243902439024,
          0.34146341463414637,
          0.5121951219512195,
          0.4861111111111111,
          0.6666666666666666
         ]
        },
        {
         "mode": "markers+lines",
         "name": "Golden State Warriors",
         "type": "scatter",
         "x": [
          "2012",
          "2013",
          "2014",
          "2015",
          "2016",
          "2017",
          "2018",
          "2019",
          "2020"
         ],
         "y": [
          0.573170731707317,
          0.6219512195121951,
          0.8170731707317073,
          0.8902439024390244,
          0.8170731707317073,
          0.7073170731707317,
          0.6951219512195121,
          0.23076923076923078,
          0.5416666666666666
         ]
        }
       ],
       "layout": {
        "font": {
         "family": "Times New Roman",
         "size": 16
        },
        "legend": {
         "title": {
          "text": "Teams"
         }
        },
        "template": {
         "data": {
          "bar": [
           {
            "error_x": {
             "color": "#2a3f5f"
            },
            "error_y": {
             "color": "#2a3f5f"
            },
            "marker": {
             "line": {
              "color": "#E5ECF6",
              "width": 0.5
             },
             "pattern": {
              "fillmode": "overlay",
              "size": 10,
              "solidity": 0.2
             }
            },
            "type": "bar"
           }
          ],
          "barpolar": [
           {
            "marker": {
             "line": {
              "color": "#E5ECF6",
              "width": 0.5
             },
             "pattern": {
              "fillmode": "overlay",
              "size": 10,
              "solidity": 0.2
             }
            },
            "type": "barpolar"
           }
          ],
          "carpet": [
           {
            "aaxis": {
             "endlinecolor": "#2a3f5f",
             "gridcolor": "white",
             "linecolor": "white",
             "minorgridcolor": "white",
             "startlinecolor": "#2a3f5f"
            },
            "baxis": {
             "endlinecolor": "#2a3f5f",
             "gridcolor": "white",
             "linecolor": "white",
             "minorgridcolor": "white",
             "startlinecolor": "#2a3f5f"
            },
            "type": "carpet"
           }
          ],
          "choropleth": [
           {
            "colorbar": {
             "outlinewidth": 0,
             "ticks": ""
            },
            "type": "choropleth"
           }
          ],
          "contour": [
           {
            "colorbar": {
             "outlinewidth": 0,
             "ticks": ""
            },
            "colorscale": [
             [
              0,
              "#0d0887"
             ],
             [
              0.1111111111111111,
              "#46039f"
             ],
             [
              0.2222222222222222,
              "#7201a8"
             ],
             [
              0.3333333333333333,
              "#9c179e"
             ],
             [
              0.4444444444444444,
              "#bd3786"
             ],
             [
              0.5555555555555556,
              "#d8576b"
             ],
             [
              0.6666666666666666,
              "#ed7953"
             ],
             [
              0.7777777777777778,
              "#fb9f3a"
             ],
             [
              0.8888888888888888,
              "#fdca26"
             ],
             [
              1,
              "#f0f921"
             ]
            ],
            "type": "contour"
           }
          ],
          "contourcarpet": [
           {
            "colorbar": {
             "outlinewidth": 0,
             "ticks": ""
            },
            "type": "contourcarpet"
           }
          ],
          "heatmap": [
           {
            "colorbar": {
             "outlinewidth": 0,
             "ticks": ""
            },
            "colorscale": [
             [
              0,
              "#0d0887"
             ],
             [
              0.1111111111111111,
              "#46039f"
             ],
             [
              0.2222222222222222,
              "#7201a8"
             ],
             [
              0.3333333333333333,
              "#9c179e"
             ],
             [
              0.4444444444444444,
              "#bd3786"
             ],
             [
              0.5555555555555556,
              "#d8576b"
             ],
             [
              0.6666666666666666,
              "#ed7953"
             ],
             [
              0.7777777777777778,
              "#fb9f3a"
             ],
             [
              0.8888888888888888,
              "#fdca26"
             ],
             [
              1,
              "#f0f921"
             ]
            ],
            "type": "heatmap"
           }
          ],
          "heatmapgl": [
           {
            "colorbar": {
             "outlinewidth": 0,
             "ticks": ""
            },
            "colorscale": [
             [
              0,
              "#0d0887"
             ],
             [
              0.1111111111111111,
              "#46039f"
             ],
             [
              0.2222222222222222,
              "#7201a8"
             ],
             [
              0.3333333333333333,
              "#9c179e"
             ],
             [
              0.4444444444444444,
              "#bd3786"
             ],
             [
              0.5555555555555556,
              "#d8576b"
             ],
             [
              0.6666666666666666,
              "#ed7953"
             ],
             [
              0.7777777777777778,
              "#fb9f3a"
             ],
             [
              0.8888888888888888,
              "#fdca26"
             ],
             [
              1,
              "#f0f921"
             ]
            ],
            "type": "heatmapgl"
           }
          ],
          "histogram": [
           {
            "marker": {
             "pattern": {
              "fillmode": "overlay",
              "size": 10,
              "solidity": 0.2
             }
            },
            "type": "histogram"
           }
          ],
          "histogram2d": [
           {
            "colorbar": {
             "outlinewidth": 0,
             "ticks": ""
            },
            "colorscale": [
             [
              0,
              "#0d0887"
             ],
             [
              0.1111111111111111,
              "#46039f"
             ],
             [
              0.2222222222222222,
              "#7201a8"
             ],
             [
              0.3333333333333333,
              "#9c179e"
             ],
             [
              0.4444444444444444,
              "#bd3786"
             ],
             [
              0.5555555555555556,
              "#d8576b"
             ],
             [
              0.6666666666666666,
              "#ed7953"
             ],
             [
              0.7777777777777778,
              "#fb9f3a"
             ],
             [
              0.8888888888888888,
              "#fdca26"
             ],
             [
              1,
              "#f0f921"
             ]
            ],
            "type": "histogram2d"
           }
          ],
          "histogram2dcontour": [
           {
            "colorbar": {
             "outlinewidth": 0,
             "ticks": ""
            },
            "colorscale": [
             [
              0,
              "#0d0887"
             ],
             [
              0.1111111111111111,
              "#46039f"
             ],
             [
              0.2222222222222222,
              "#7201a8"
             ],
             [
              0.3333333333333333,
              "#9c179e"
             ],
             [
              0.4444444444444444,
              "#bd3786"
             ],
             [
              0.5555555555555556,
              "#d8576b"
             ],
             [
              0.6666666666666666,
              "#ed7953"
             ],
             [
              0.7777777777777778,
              "#fb9f3a"
             ],
             [
              0.8888888888888888,
              "#fdca26"
             ],
             [
              1,
              "#f0f921"
             ]
            ],
            "type": "histogram2dcontour"
           }
          ],
          "mesh3d": [
           {
            "colorbar": {
             "outlinewidth": 0,
             "ticks": ""
            },
            "type": "mesh3d"
           }
          ],
          "parcoords": [
           {
            "line": {
             "colorbar": {
              "outlinewidth": 0,
              "ticks": ""
             }
            },
            "type": "parcoords"
           }
          ],
          "pie": [
           {
            "automargin": true,
            "type": "pie"
           }
          ],
          "scatter": [
           {
            "marker": {
             "colorbar": {
              "outlinewidth": 0,
              "ticks": ""
             }
            },
            "type": "scatter"
           }
          ],
          "scatter3d": [
           {
            "line": {
             "colorbar": {
              "outlinewidth": 0,
              "ticks": ""
             }
            },
            "marker": {
             "colorbar": {
              "outlinewidth": 0,
              "ticks": ""
             }
            },
            "type": "scatter3d"
           }
          ],
          "scattercarpet": [
           {
            "marker": {
             "colorbar": {
              "outlinewidth": 0,
              "ticks": ""
             }
            },
            "type": "scattercarpet"
           }
          ],
          "scattergeo": [
           {
            "marker": {
             "colorbar": {
              "outlinewidth": 0,
              "ticks": ""
             }
            },
            "type": "scattergeo"
           }
          ],
          "scattergl": [
           {
            "marker": {
             "colorbar": {
              "outlinewidth": 0,
              "ticks": ""
             }
            },
            "type": "scattergl"
           }
          ],
          "scattermapbox": [
           {
            "marker": {
             "colorbar": {
              "outlinewidth": 0,
              "ticks": ""
             }
            },
            "type": "scattermapbox"
           }
          ],
          "scatterpolar": [
           {
            "marker": {
             "colorbar": {
              "outlinewidth": 0,
              "ticks": ""
             }
            },
            "type": "scatterpolar"
           }
          ],
          "scatterpolargl": [
           {
            "marker": {
             "colorbar": {
              "outlinewidth": 0,
              "ticks": ""
             }
            },
            "type": "scatterpolargl"
           }
          ],
          "scatterternary": [
           {
            "marker": {
             "colorbar": {
              "outlinewidth": 0,
              "ticks": ""
             }
            },
            "type": "scatterternary"
           }
          ],
          "surface": [
           {
            "colorbar": {
             "outlinewidth": 0,
             "ticks": ""
            },
            "colorscale": [
             [
              0,
              "#0d0887"
             ],
             [
              0.1111111111111111,
              "#46039f"
             ],
             [
              0.2222222222222222,
              "#7201a8"
             ],
             [
              0.3333333333333333,
              "#9c179e"
             ],
             [
              0.4444444444444444,
              "#bd3786"
             ],
             [
              0.5555555555555556,
              "#d8576b"
             ],
             [
              0.6666666666666666,
              "#ed7953"
             ],
             [
              0.7777777777777778,
              "#fb9f3a"
             ],
             [
              0.8888888888888888,
              "#fdca26"
             ],
             [
              1,
              "#f0f921"
             ]
            ],
            "type": "surface"
           }
          ],
          "table": [
           {
            "cells": {
             "fill": {
              "color": "#EBF0F8"
             },
             "line": {
              "color": "white"
             }
            },
            "header": {
             "fill": {
              "color": "#C8D4E3"
             },
             "line": {
              "color": "white"
             }
            },
            "type": "table"
           }
          ]
         },
         "layout": {
          "annotationdefaults": {
           "arrowcolor": "#2a3f5f",
           "arrowhead": 0,
           "arrowwidth": 1
          },
          "autotypenumbers": "strict",
          "coloraxis": {
           "colorbar": {
            "outlinewidth": 0,
            "ticks": ""
           }
          },
          "colorscale": {
           "diverging": [
            [
             0,
             "#8e0152"
            ],
            [
             0.1,
             "#c51b7d"
            ],
            [
             0.2,
             "#de77ae"
            ],
            [
             0.3,
             "#f1b6da"
            ],
            [
             0.4,
             "#fde0ef"
            ],
            [
             0.5,
             "#f7f7f7"
            ],
            [
             0.6,
             "#e6f5d0"
            ],
            [
             0.7,
             "#b8e186"
            ],
            [
             0.8,
             "#7fbc41"
            ],
            [
             0.9,
             "#4d9221"
            ],
            [
             1,
             "#276419"
            ]
           ],
           "sequential": [
            [
             0,
             "#0d0887"
            ],
            [
             0.1111111111111111,
             "#46039f"
            ],
            [
             0.2222222222222222,
             "#7201a8"
            ],
            [
             0.3333333333333333,
             "#9c179e"
            ],
            [
             0.4444444444444444,
             "#bd3786"
            ],
            [
             0.5555555555555556,
             "#d8576b"
            ],
            [
             0.6666666666666666,
             "#ed7953"
            ],
            [
             0.7777777777777778,
             "#fb9f3a"
            ],
            [
             0.8888888888888888,
             "#fdca26"
            ],
            [
             1,
             "#f0f921"
            ]
           ],
           "sequentialminus": [
            [
             0,
             "#0d0887"
            ],
            [
             0.1111111111111111,
             "#46039f"
            ],
            [
             0.2222222222222222,
             "#7201a8"
            ],
            [
             0.3333333333333333,
             "#9c179e"
            ],
            [
             0.4444444444444444,
             "#bd3786"
            ],
            [
             0.5555555555555556,
             "#d8576b"
            ],
            [
             0.6666666666666666,
             "#ed7953"
            ],
            [
             0.7777777777777778,
             "#fb9f3a"
            ],
            [
             0.8888888888888888,
             "#fdca26"
            ],
            [
             1,
             "#f0f921"
            ]
           ]
          },
          "colorway": [
           "#636efa",
           "#EF553B",
           "#00cc96",
           "#ab63fa",
           "#FFA15A",
           "#19d3f3",
           "#FF6692",
           "#B6E880",
           "#FF97FF",
           "#FECB52"
          ],
          "font": {
           "color": "#2a3f5f"
          },
          "geo": {
           "bgcolor": "white",
           "lakecolor": "white",
           "landcolor": "#E5ECF6",
           "showlakes": true,
           "showland": true,
           "subunitcolor": "white"
          },
          "hoverlabel": {
           "align": "left"
          },
          "hovermode": "closest",
          "mapbox": {
           "style": "light"
          },
          "paper_bgcolor": "white",
          "plot_bgcolor": "#E5ECF6",
          "polar": {
           "angularaxis": {
            "gridcolor": "white",
            "linecolor": "white",
            "ticks": ""
           },
           "bgcolor": "#E5ECF6",
           "radialaxis": {
            "gridcolor": "white",
            "linecolor": "white",
            "ticks": ""
           }
          },
          "scene": {
           "xaxis": {
            "backgroundcolor": "#E5ECF6",
            "gridcolor": "white",
            "gridwidth": 2,
            "linecolor": "white",
            "showbackground": true,
            "ticks": "",
            "zerolinecolor": "white"
           },
           "yaxis": {
            "backgroundcolor": "#E5ECF6",
            "gridcolor": "white",
            "gridwidth": 2,
            "linecolor": "white",
            "showbackground": true,
            "ticks": "",
            "zerolinecolor": "white"
           },
           "zaxis": {
            "backgroundcolor": "#E5ECF6",
            "gridcolor": "white",
            "gridwidth": 2,
            "linecolor": "white",
            "showbackground": true,
            "ticks": "",
            "zerolinecolor": "white"
           }
          },
          "shapedefaults": {
           "line": {
            "color": "#2a3f5f"
           }
          },
          "ternary": {
           "aaxis": {
            "gridcolor": "white",
            "linecolor": "white",
            "ticks": ""
           },
           "baxis": {
            "gridcolor": "white",
            "linecolor": "white",
            "ticks": ""
           },
           "bgcolor": "#E5ECF6",
           "caxis": {
            "gridcolor": "white",
            "linecolor": "white",
            "ticks": ""
           }
          },
          "title": {
           "x": 0.05
          },
          "xaxis": {
           "automargin": true,
           "gridcolor": "white",
           "linecolor": "white",
           "ticks": "",
           "title": {
            "standoff": 15
           },
           "zerolinecolor": "white",
           "zerolinewidth": 2
          },
          "yaxis": {
           "automargin": true,
           "gridcolor": "white",
           "linecolor": "white",
           "ticks": "",
           "title": {
            "standoff": 15
           },
           "zerolinecolor": "white",
           "zerolinewidth": 2
          }
         }
        },
        "title": {
         "text": "Currently Top 4 Favorite NBA Teams",
         "x": 0.4,
         "xanchor": "center",
         "y": 0.9,
         "yanchor": "top"
        },
        "xaxis": {
         "title": {
          "text": "Years"
         }
        },
        "yaxis": {
         "title": {
          "text": "Win %"
         }
        }
       }
      },
      "text/html": [
       "<div>                            <div id=\"bf311110-ebb0-4d65-b84e-d458003a3a61\" class=\"plotly-graph-div\" style=\"height:525px; width:100%;\"></div>            <script type=\"text/javascript\">                require([\"plotly\"], function(Plotly) {                    window.PLOTLYENV=window.PLOTLYENV || {};                                    if (document.getElementById(\"bf311110-ebb0-4d65-b84e-d458003a3a61\")) {                    Plotly.newPlot(                        \"bf311110-ebb0-4d65-b84e-d458003a3a61\",                        [{\"mode\":\"markers+lines\",\"name\":\"Phoenix Suns\",\"type\":\"scatter\",\"x\":[\"2012\",\"2013\",\"2014\",\"2015\",\"2016\",\"2017\",\"2018\",\"2019\",\"2020\"],\"y\":[0.3048780487804878,0.5853658536585366,0.47560975609756095,0.2804878048780488,0.2926829268292683,0.25609756097560976,0.23170731707317074,0.4657534246575342,0.7083333333333334]},{\"mode\":\"markers+lines\",\"name\":\"Milwaukee Bucks\",\"type\":\"scatter\",\"x\":[\"2012\",\"2013\",\"2014\",\"2015\",\"2016\",\"2017\",\"2018\",\"2019\",\"2020\"],\"y\":[0.4634146341463415,0.18292682926829268,0.5,0.4024390243902439,0.5121951219512195,0.5365853658536586,0.7317073170731707,0.7671232876712328,0.6388888888888888]},{\"mode\":\"markers+lines\",\"name\":\"Brooklyn Nets\",\"type\":\"scatter\",\"x\":[\"2012\",\"2013\",\"2014\",\"2015\",\"2016\",\"2017\",\"2018\",\"2019\",\"2020\"],\"y\":[0.5975609756097561,0.5365853658536586,0.4634146341463415,0.25609756097560976,0.24390243902439024,0.34146341463414637,0.5121951219512195,0.4861111111111111,0.6666666666666666]},{\"mode\":\"markers+lines\",\"name\":\"Golden State Warriors\",\"type\":\"scatter\",\"x\":[\"2012\",\"2013\",\"2014\",\"2015\",\"2016\",\"2017\",\"2018\",\"2019\",\"2020\"],\"y\":[0.573170731707317,0.6219512195121951,0.8170731707317073,0.8902439024390244,0.8170731707317073,0.7073170731707317,0.6951219512195121,0.23076923076923078,0.5416666666666666]}],                        {\"font\":{\"family\":\"Times New Roman\",\"size\":16},\"legend\":{\"title\":{\"text\":\"Teams\"}},\"template\":{\"data\":{\"bar\":[{\"error_x\":{\"color\":\"#2a3f5f\"},\"error_y\":{\"color\":\"#2a3f5f\"},\"marker\":{\"line\":{\"color\":\"#E5ECF6\",\"width\":0.5},\"pattern\":{\"fillmode\":\"overlay\",\"size\":10,\"solidity\":0.2}},\"type\":\"bar\"}],\"barpolar\":[{\"marker\":{\"line\":{\"color\":\"#E5ECF6\",\"width\":0.5},\"pattern\":{\"fillmode\":\"overlay\",\"size\":10,\"solidity\":0.2}},\"type\":\"barpolar\"}],\"carpet\":[{\"aaxis\":{\"endlinecolor\":\"#2a3f5f\",\"gridcolor\":\"white\",\"linecolor\":\"white\",\"minorgridcolor\":\"white\",\"startlinecolor\":\"#2a3f5f\"},\"baxis\":{\"endlinecolor\":\"#2a3f5f\",\"gridcolor\":\"white\",\"linecolor\":\"white\",\"minorgridcolor\":\"white\",\"startlinecolor\":\"#2a3f5f\"},\"type\":\"carpet\"}],\"choropleth\":[{\"colorbar\":{\"outlinewidth\":0,\"ticks\":\"\"},\"type\":\"choropleth\"}],\"contour\":[{\"colorbar\":{\"outlinewidth\":0,\"ticks\":\"\"},\"colorscale\":[[0.0,\"#0d0887\"],[0.1111111111111111,\"#46039f\"],[0.2222222222222222,\"#7201a8\"],[0.3333333333333333,\"#9c179e\"],[0.4444444444444444,\"#bd3786\"],[0.5555555555555556,\"#d8576b\"],[0.6666666666666666,\"#ed7953\"],[0.7777777777777778,\"#fb9f3a\"],[0.8888888888888888,\"#fdca26\"],[1.0,\"#f0f921\"]],\"type\":\"contour\"}],\"contourcarpet\":[{\"colorbar\":{\"outlinewidth\":0,\"ticks\":\"\"},\"type\":\"contourcarpet\"}],\"heatmap\":[{\"colorbar\":{\"outlinewidth\":0,\"ticks\":\"\"},\"colorscale\":[[0.0,\"#0d0887\"],[0.1111111111111111,\"#46039f\"],[0.2222222222222222,\"#7201a8\"],[0.3333333333333333,\"#9c179e\"],[0.4444444444444444,\"#bd3786\"],[0.5555555555555556,\"#d8576b\"],[0.6666666666666666,\"#ed7953\"],[0.7777777777777778,\"#fb9f3a\"],[0.8888888888888888,\"#fdca26\"],[1.0,\"#f0f921\"]],\"type\":\"heatmap\"}],\"heatmapgl\":[{\"colorbar\":{\"outlinewidth\":0,\"ticks\":\"\"},\"colorscale\":[[0.0,\"#0d0887\"],[0.1111111111111111,\"#46039f\"],[0.2222222222222222,\"#7201a8\"],[0.3333333333333333,\"#9c179e\"],[0.4444444444444444,\"#bd3786\"],[0.5555555555555556,\"#d8576b\"],[0.6666666666666666,\"#ed7953\"],[0.7777777777777778,\"#fb9f3a\"],[0.8888888888888888,\"#fdca26\"],[1.0,\"#f0f921\"]],\"type\":\"heatmapgl\"}],\"histogram\":[{\"marker\":{\"pattern\":{\"fillmode\":\"overlay\",\"size\":10,\"solidity\":0.2}},\"type\":\"histogram\"}],\"histogram2d\":[{\"colorbar\":{\"outlinewidth\":0,\"ticks\":\"\"},\"colorscale\":[[0.0,\"#0d0887\"],[0.1111111111111111,\"#46039f\"],[0.2222222222222222,\"#7201a8\"],[0.3333333333333333,\"#9c179e\"],[0.4444444444444444,\"#bd3786\"],[0.5555555555555556,\"#d8576b\"],[0.6666666666666666,\"#ed7953\"],[0.7777777777777778,\"#fb9f3a\"],[0.8888888888888888,\"#fdca26\"],[1.0,\"#f0f921\"]],\"type\":\"histogram2d\"}],\"histogram2dcontour\":[{\"colorbar\":{\"outlinewidth\":0,\"ticks\":\"\"},\"colorscale\":[[0.0,\"#0d0887\"],[0.1111111111111111,\"#46039f\"],[0.2222222222222222,\"#7201a8\"],[0.3333333333333333,\"#9c179e\"],[0.4444444444444444,\"#bd3786\"],[0.5555555555555556,\"#d8576b\"],[0.6666666666666666,\"#ed7953\"],[0.7777777777777778,\"#fb9f3a\"],[0.8888888888888888,\"#fdca26\"],[1.0,\"#f0f921\"]],\"type\":\"histogram2dcontour\"}],\"mesh3d\":[{\"colorbar\":{\"outlinewidth\":0,\"ticks\":\"\"},\"type\":\"mesh3d\"}],\"parcoords\":[{\"line\":{\"colorbar\":{\"outlinewidth\":0,\"ticks\":\"\"}},\"type\":\"parcoords\"}],\"pie\":[{\"automargin\":true,\"type\":\"pie\"}],\"scatter\":[{\"marker\":{\"colorbar\":{\"outlinewidth\":0,\"ticks\":\"\"}},\"type\":\"scatter\"}],\"scatter3d\":[{\"line\":{\"colorbar\":{\"outlinewidth\":0,\"ticks\":\"\"}},\"marker\":{\"colorbar\":{\"outlinewidth\":0,\"ticks\":\"\"}},\"type\":\"scatter3d\"}],\"scattercarpet\":[{\"marker\":{\"colorbar\":{\"outlinewidth\":0,\"ticks\":\"\"}},\"type\":\"scattercarpet\"}],\"scattergeo\":[{\"marker\":{\"colorbar\":{\"outlinewidth\":0,\"ticks\":\"\"}},\"type\":\"scattergeo\"}],\"scattergl\":[{\"marker\":{\"colorbar\":{\"outlinewidth\":0,\"ticks\":\"\"}},\"type\":\"scattergl\"}],\"scattermapbox\":[{\"marker\":{\"colorbar\":{\"outlinewidth\":0,\"ticks\":\"\"}},\"type\":\"scattermapbox\"}],\"scatterpolar\":[{\"marker\":{\"colorbar\":{\"outlinewidth\":0,\"ticks\":\"\"}},\"type\":\"scatterpolar\"}],\"scatterpolargl\":[{\"marker\":{\"colorbar\":{\"outlinewidth\":0,\"ticks\":\"\"}},\"type\":\"scatterpolargl\"}],\"scatterternary\":[{\"marker\":{\"colorbar\":{\"outlinewidth\":0,\"ticks\":\"\"}},\"type\":\"scatterternary\"}],\"surface\":[{\"colorbar\":{\"outlinewidth\":0,\"ticks\":\"\"},\"colorscale\":[[0.0,\"#0d0887\"],[0.1111111111111111,\"#46039f\"],[0.2222222222222222,\"#7201a8\"],[0.3333333333333333,\"#9c179e\"],[0.4444444444444444,\"#bd3786\"],[0.5555555555555556,\"#d8576b\"],[0.6666666666666666,\"#ed7953\"],[0.7777777777777778,\"#fb9f3a\"],[0.8888888888888888,\"#fdca26\"],[1.0,\"#f0f921\"]],\"type\":\"surface\"}],\"table\":[{\"cells\":{\"fill\":{\"color\":\"#EBF0F8\"},\"line\":{\"color\":\"white\"}},\"header\":{\"fill\":{\"color\":\"#C8D4E3\"},\"line\":{\"color\":\"white\"}},\"type\":\"table\"}]},\"layout\":{\"annotationdefaults\":{\"arrowcolor\":\"#2a3f5f\",\"arrowhead\":0,\"arrowwidth\":1},\"autotypenumbers\":\"strict\",\"coloraxis\":{\"colorbar\":{\"outlinewidth\":0,\"ticks\":\"\"}},\"colorscale\":{\"diverging\":[[0,\"#8e0152\"],[0.1,\"#c51b7d\"],[0.2,\"#de77ae\"],[0.3,\"#f1b6da\"],[0.4,\"#fde0ef\"],[0.5,\"#f7f7f7\"],[0.6,\"#e6f5d0\"],[0.7,\"#b8e186\"],[0.8,\"#7fbc41\"],[0.9,\"#4d9221\"],[1,\"#276419\"]],\"sequential\":[[0.0,\"#0d0887\"],[0.1111111111111111,\"#46039f\"],[0.2222222222222222,\"#7201a8\"],[0.3333333333333333,\"#9c179e\"],[0.4444444444444444,\"#bd3786\"],[0.5555555555555556,\"#d8576b\"],[0.6666666666666666,\"#ed7953\"],[0.7777777777777778,\"#fb9f3a\"],[0.8888888888888888,\"#fdca26\"],[1.0,\"#f0f921\"]],\"sequentialminus\":[[0.0,\"#0d0887\"],[0.1111111111111111,\"#46039f\"],[0.2222222222222222,\"#7201a8\"],[0.3333333333333333,\"#9c179e\"],[0.4444444444444444,\"#bd3786\"],[0.5555555555555556,\"#d8576b\"],[0.6666666666666666,\"#ed7953\"],[0.7777777777777778,\"#fb9f3a\"],[0.8888888888888888,\"#fdca26\"],[1.0,\"#f0f921\"]]},\"colorway\":[\"#636efa\",\"#EF553B\",\"#00cc96\",\"#ab63fa\",\"#FFA15A\",\"#19d3f3\",\"#FF6692\",\"#B6E880\",\"#FF97FF\",\"#FECB52\"],\"font\":{\"color\":\"#2a3f5f\"},\"geo\":{\"bgcolor\":\"white\",\"lakecolor\":\"white\",\"landcolor\":\"#E5ECF6\",\"showlakes\":true,\"showland\":true,\"subunitcolor\":\"white\"},\"hoverlabel\":{\"align\":\"left\"},\"hovermode\":\"closest\",\"mapbox\":{\"style\":\"light\"},\"paper_bgcolor\":\"white\",\"plot_bgcolor\":\"#E5ECF6\",\"polar\":{\"angularaxis\":{\"gridcolor\":\"white\",\"linecolor\":\"white\",\"ticks\":\"\"},\"bgcolor\":\"#E5ECF6\",\"radialaxis\":{\"gridcolor\":\"white\",\"linecolor\":\"white\",\"ticks\":\"\"}},\"scene\":{\"xaxis\":{\"backgroundcolor\":\"#E5ECF6\",\"gridcolor\":\"white\",\"gridwidth\":2,\"linecolor\":\"white\",\"showbackground\":true,\"ticks\":\"\",\"zerolinecolor\":\"white\"},\"yaxis\":{\"backgroundcolor\":\"#E5ECF6\",\"gridcolor\":\"white\",\"gridwidth\":2,\"linecolor\":\"white\",\"showbackground\":true,\"ticks\":\"\",\"zerolinecolor\":\"white\"},\"zaxis\":{\"backgroundcolor\":\"#E5ECF6\",\"gridcolor\":\"white\",\"gridwidth\":2,\"linecolor\":\"white\",\"showbackground\":true,\"ticks\":\"\",\"zerolinecolor\":\"white\"}},\"shapedefaults\":{\"line\":{\"color\":\"#2a3f5f\"}},\"ternary\":{\"aaxis\":{\"gridcolor\":\"white\",\"linecolor\":\"white\",\"ticks\":\"\"},\"baxis\":{\"gridcolor\":\"white\",\"linecolor\":\"white\",\"ticks\":\"\"},\"bgcolor\":\"#E5ECF6\",\"caxis\":{\"gridcolor\":\"white\",\"linecolor\":\"white\",\"ticks\":\"\"}},\"title\":{\"x\":0.05},\"xaxis\":{\"automargin\":true,\"gridcolor\":\"white\",\"linecolor\":\"white\",\"ticks\":\"\",\"title\":{\"standoff\":15},\"zerolinecolor\":\"white\",\"zerolinewidth\":2},\"yaxis\":{\"automargin\":true,\"gridcolor\":\"white\",\"linecolor\":\"white\",\"ticks\":\"\",\"title\":{\"standoff\":15},\"zerolinecolor\":\"white\",\"zerolinewidth\":2}}},\"title\":{\"text\":\"Currently Top 4 Favorite NBA Teams\",\"x\":0.4,\"xanchor\":\"center\",\"y\":0.9,\"yanchor\":\"top\"},\"xaxis\":{\"title\":{\"text\":\"Years\"}},\"yaxis\":{\"title\":{\"text\":\"Win %\"}}},                        {\"responsive\": true}                    ).then(function(){\n",
       "                            \n",
       "var gd = document.getElementById('bf311110-ebb0-4d65-b84e-d458003a3a61');\n",
       "var x = new MutationObserver(function (mutations, observer) {{\n",
       "        var display = window.getComputedStyle(gd).display;\n",
       "        if (!display || display === 'none') {{\n",
       "            console.log([gd, 'removed!']);\n",
       "            Plotly.purge(gd);\n",
       "            observer.disconnect();\n",
       "        }}\n",
       "}});\n",
       "\n",
       "// Listen for the removal of the full notebook cells\n",
       "var notebookContainer = gd.closest('#notebook-container');\n",
       "if (notebookContainer) {{\n",
       "    x.observe(notebookContainer, {childList: true});\n",
       "}}\n",
       "\n",
       "// Listen for the clearing of the current output cell\n",
       "var outputEl = gd.closest('.output');\n",
       "if (outputEl) {{\n",
       "    x.observe(outputEl, {childList: true});\n",
       "}}\n",
       "\n",
       "                        })                };                });            </script>        </div>"
      ]
     },
     "metadata": {},
     "output_type": "display_data"
    }
   ],
   "source": [
    "import plotly.express as px\n",
    "import plotly.graph_objects as go\n",
    "'''plt.subplot()\n",
    "plt.plot(pd_phx['Year'], pd_phx['Win %'], label = 'Phoenix Suns')\n",
    "plt.plot(pd_mil['Year'], pd_mil['Win %'], label = 'Milwaukee Bucks')\n",
    "plt.plot(pd_gsw['Year'], pd_gsw['Win %'], label = 'Golden State Warriors')\n",
    "plt.plot(pd_brooklyn['Year'], pd_brooklyn['Win %'], label = 'Brooklyn Nets')\n",
    "plt.ylabel(\"Win %\")\n",
    "plt.xlabel(\"Years\")\n",
    "plt.legend()\n",
    "#plt.grid()\n",
    "plt.rcParams[\"figure.figsize\"] = (5,5)\n",
    "plt.show()\n",
    "'''\n",
    "fig = go.Figure()\n",
    "fig.add_trace(go.Scatter(\n",
    "    name = \"Phoenix Suns\",\n",
    "    mode = \"markers+lines\",x=pd_phx['Year'], y=pd_phx['Win %']\n",
    "))\n",
    "fig.add_trace(go.Scatter(\n",
    "    name = \"Milwaukee Bucks\",\n",
    "    mode = \"markers+lines\",x=pd_mil['Year'], y=pd_mil['Win %']\n",
    "))\n",
    "fig.add_trace(go.Scatter(\n",
    "    name = \"Brooklyn Nets\",\n",
    "    mode = \"markers+lines\",x=pd_brooklyn['Year'], y=pd_brooklyn['Win %']\n",
    "))\n",
    "fig.add_trace(go.Scatter(\n",
    "    name = \"Golden State Warriors\",\n",
    "    mode = \"markers+lines\",x=pd_gsw['Year'], y=pd_gsw['Win %']\n",
    "))\n",
    "\n",
    "\n",
    "#fig.update_xaxes(showgrid=True, ticklabelmode=\"period\")\n",
    "fig.update_layout(\n",
    "    title = {\n",
    "            'text':'Currently Top 4 Favorite NBA Teams',\n",
    "            'x':0.4,\n",
    "            'y':0.9,\n",
    "            'xanchor':'center',\n",
    "            'yanchor':'top'\n",
    "    },\n",
    "    xaxis_title='Years',\n",
    "    yaxis_title='Win %',\n",
    "    legend_title='Teams',\n",
    "    font=dict(\n",
    "        family=\"Times New Roman\",\n",
    "        size=16\n",
    "    )\n",
    ")\n",
    "fig.show()\n",
    "#plt.plot(pd_mil['Year'], pd_mil['Win %'], label = \"Milwaukee Bucks\")\n",
    "#plt.legend()\n",
    "#plt.show()"
   ]
  },
  {
   "cell_type": "code",
   "execution_count": null,
   "metadata": {},
   "outputs": [],
   "source": []
  }
 ],
 "metadata": {
  "kernelspec": {
   "display_name": "Python 3 (ipykernel)",
   "language": "python",
   "name": "python3"
  },
  "language_info": {
   "codemirror_mode": {
    "name": "ipython",
    "version": 3
   },
   "file_extension": ".py",
   "mimetype": "text/x-python",
   "name": "python",
   "nbconvert_exporter": "python",
   "pygments_lexer": "ipython3",
   "version": "3.9.10"
  }
 },
 "nbformat": 4,
 "nbformat_minor": 1
}
